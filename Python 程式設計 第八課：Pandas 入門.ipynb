{
 "cells": [
  {
   "cell_type": "markdown",
   "metadata": {
    "colab_type": "text",
    "id": "RLMPVsC7sU2-"
   },
   "source": [
    "# 資料科學套件\n",
    "\n",
    "\n",
    "# Pandas 簡介\n",
    "\n",
    "提供靈活直觀的資料結構來處理關聯數據和有標籤的數據\n",
    "\n",
    "---\n",
    "# Pandas 提供的資料結構\n",
    "\n",
    "| 名稱 | 描述 |\n",
    "|:--:|:------:|\n",
    "| Series | 可以建立索引的一維陣列       |\n",
    "| DataFrame | 有列索引與欄標籤的二維資料集 |\n",
    "| Panel | 有資料集索引、列索引與欄標籤的三維資料集 |\n",
    "\n",
    "---\n",
    "# 使用 Pandas\n",
    "\n",
    "首先我們用 `import` 引入 pandas，一般慣例上會將它重新命名成 pd: \n",
    "\n",
    "```python\n",
    "import pandas as pd\n",
    "```\n"
   ]
  },
  {
   "cell_type": "code",
   "execution_count": 1,
   "metadata": {
    "colab": {},
    "colab_type": "code",
    "id": "GuBUqWfTsU3C"
   },
   "outputs": [],
   "source": [
    "import pandas as pd"
   ]
  },
  {
   "cell_type": "markdown",
   "metadata": {
    "colab_type": "text",
    "id": "0J4OwAPFsU3H"
   },
   "source": [
    "# Series（序列）\n",
    "\n",
    "簡單來說，是一個封裝多筆、一維資料的容器\n",
    "\n",
    "建立一個 series：\n",
    "\n",
    "```python\n",
    "ser = pd.Series([1,2,3,4,5])\n",
    "ser\n",
    "```"
   ]
  },
  {
   "cell_type": "code",
   "execution_count": 7,
   "metadata": {},
   "outputs": [
    {
     "output_type": "execute_result",
     "data": {
      "text/plain": "[1, 2, 3, 4, 5]"
     },
     "metadata": {},
     "execution_count": 7
    }
   ],
   "source": [
    "[1,2,3,4,5]"
   ]
  },
  {
   "cell_type": "code",
   "execution_count": 8,
   "metadata": {
    "colab": {},
    "colab_type": "code",
    "id": "9LZQpKh1sU3I"
   },
   "outputs": [
    {
     "output_type": "execute_result",
     "data": {
      "text/plain": "0    1\n1    2\n2    3\n3    4\n4    5\ndtype: int64"
     },
     "metadata": {},
     "execution_count": 8
    }
   ],
   "source": [
    "ser = pd.Series( [1,2,3,4,5] )\n",
    "ser"
   ]
  },
  {
   "cell_type": "code",
   "execution_count": 9,
   "metadata": {},
   "outputs": [
    {
     "output_type": "execute_result",
     "data": {
      "text/plain": "3"
     },
     "metadata": {},
     "execution_count": 9
    }
   ],
   "source": [
    "ser.iloc[2]"
   ]
  },
  {
   "cell_type": "code",
   "execution_count": 10,
   "metadata": {},
   "outputs": [
    {
     "output_type": "execute_result",
     "data": {
      "text/plain": "[2, 3, 4]"
     },
     "metadata": {},
     "execution_count": 10
    }
   ],
   "source": [
    "lst = [1,2,3,4,5]\n",
    "lst[1:4]"
   ]
  },
  {
   "cell_type": "code",
   "execution_count": 11,
   "metadata": {},
   "outputs": [
    {
     "output_type": "execute_result",
     "data": {
      "text/plain": "1    2\n2    3\n3    4\ndtype: int64"
     },
     "metadata": {},
     "execution_count": 11
    }
   ],
   "source": [
    "ser.iloc[1:4]"
   ]
  },
  {
   "cell_type": "markdown",
   "metadata": {
    "colab_type": "text",
    "id": "dpCOJrwesU3L"
   },
   "source": [
    "跑出結果了！發現有兩列數字（columns）\n",
    "\n",
    "- 第一條columns顯示0～4，為index\n",
    "- 第二條就是每個index所對應到的值\n",
    "\n",
    "到此，Series 看起來和 List 很像，只不過是以縱向的形式呈現，但是我們再來看看不一樣的地方"
   ]
  },
  {
   "cell_type": "markdown",
   "metadata": {
    "colab_type": "text",
    "id": "Pq_navaysU3h"
   },
   "source": [
    "# 讀取序列内的資料\n",
    "\n",
    "可以使用 iloc 方法：\n",
    "\n",
    "```python\n",
    "ser1.iloc[0]\n",
    "```\n"
   ]
  },
  {
   "cell_type": "markdown",
   "metadata": {
    "colab_type": "text",
    "id": "aFH5E2I6sU3k"
   },
   "source": [
    "# 切片序列内的資料\n",
    "\n",
    "如同 List，Series 也支援的切片的功能：\n",
    "\n",
    "```python\n",
    "ser.iloc[索引值起點：索引值結束點]\n",
    "```\n",
    "\n",
    "與串列的切片方式一樣\n",
    "\n",
    "\n",
    "\n",
    "請輸入：\n",
    "\n",
    "```python\n",
    "ser1.iloc[0:3]\n",
    "```"
   ]
  },
  {
   "cell_type": "markdown",
   "metadata": {
    "colab_type": "text",
    "id": "bFa9huRez9q6"
   },
   "source": [
    "到此，Series 看起來和 List 很像，只不過是以縱向的形式呈現在 Jupyter Notebook 上，但是，我們再來看看兩者不一樣的地方"
   ]
  },
  {
   "cell_type": "markdown",
   "metadata": {
    "colab_type": "text",
    "id": "nJDn8T2nsU3O"
   },
   "source": [
    "# 指定 index 參數\n",
    "\n",
    "將一個裝滿字串的 List 指定給 index 參數：\n",
    "\n",
    "```python\n",
    "ser1 = pd.Series([1,2,3,4,5], index=['a', 'b', 'c', 'd', 'e'])\n",
    "ser1\n",
    "```"
   ]
  },
  {
   "cell_type": "code",
   "execution_count": 16,
   "metadata": {
    "colab": {},
    "colab_type": "code",
    "id": "g0v3v2K9sU3P"
   },
   "outputs": [
    {
     "output_type": "execute_result",
     "data": {
      "text/plain": "a    1\nb    2\nc    3\nd    4\ne    5\ndtype: int64"
     },
     "metadata": {},
     "execution_count": 16
    }
   ],
   "source": [
    "ser1 = pd.Series( [1,2,3,4,5], index=[\"a\", \"b\", \"c\", \"d\", \"e\"] )\n",
    "ser1"
   ]
  },
  {
   "cell_type": "code",
   "execution_count": 17,
   "metadata": {},
   "outputs": [
    {
     "output_type": "execute_result",
     "data": {
      "text/plain": "b    2\nd    4\ne    5\ndtype: int64"
     },
     "metadata": {},
     "execution_count": 17
    }
   ],
   "source": [
    "ser1.loc[ [\"b\", \"d\", \"e\"] ]"
   ]
  },
  {
   "cell_type": "code",
   "execution_count": 18,
   "metadata": {},
   "outputs": [
    {
     "output_type": "execute_result",
     "data": {
      "text/plain": "b    2\nd    4\ne    5\ndtype: int64"
     },
     "metadata": {},
     "execution_count": 18
    }
   ],
   "source": [
    "ser1.iloc[ [1, 3, 4] ]"
   ]
  },
  {
   "cell_type": "code",
   "execution_count": 38,
   "metadata": {},
   "outputs": [
    {
     "output_type": "execute_result",
     "data": {
      "text/plain": "2"
     },
     "metadata": {},
     "execution_count": 38
    }
   ],
   "source": [
    "dic = {\n",
    "    \"a\": 1,\n",
    "    \"b\": 2,\n",
    "    \"c\": 3,\n",
    "    \"d\": 4\n",
    "}\n",
    "\n",
    "dic[\"b\"]"
   ]
  },
  {
   "cell_type": "markdown",
   "metadata": {
    "colab_type": "text",
    "id": "CRcZlqYmsU3T"
   },
   "source": [
    "接下來我們就發現，Series 的每一筆資料的索引(index)都可以被指定一個獨特的標籤"
   ]
  },
  {
   "cell_type": "markdown",
   "metadata": {
    "colab_type": "text",
    "id": "Bel6DXIMsU3U"
   },
   "source": [
    "# Series\n",
    "\n",
    "\n",
    "其實一個 Series 是由 **標籤 (Index)** 與 **值(Values)** 組成，所以剛才的 series 若從 Excel 的角度來看，可以理解成：\n",
    "\n",
    "![](https://drive.google.com/uc?export=download&id=1G9waSQfNJ3UMrwzYBIUcfbjc6gA_b_fi)\n"
   ]
  },
  {
   "cell_type": "code",
   "execution_count": 0,
   "metadata": {
    "colab": {},
    "colab_type": "code",
    "id": "aowFJYY-sU3V"
   },
   "outputs": [],
   "source": []
  },
  {
   "cell_type": "markdown",
   "metadata": {
    "colab_type": "text",
    "id": "j99wt6GfsU3Z"
   },
   "source": [
    "# 建立 Series\n",
    "Series 的值都是被存在一個**numpy array**中\n",
    "\n",
    "```python\n",
    "ser1.values\n",
    "# array([1, 2, 3, 4, 5], dtype=int64)\n",
    "```"
   ]
  },
  {
   "cell_type": "code",
   "execution_count": 39,
   "metadata": {
    "colab": {},
    "colab_type": "code",
    "id": "PhEZ_Gi6sU3b"
   },
   "outputs": [
    {
     "output_type": "execute_result",
     "data": {
      "text/plain": "array([1, 2, 3, 4, 5], dtype=int64)"
     },
     "metadata": {},
     "execution_count": 39
    }
   ],
   "source": [
    "ser1.values"
   ]
  },
  {
   "cell_type": "markdown",
   "metadata": {
    "colab_type": "text",
    "id": "_fDFfC57sU3e"
   },
   "source": [
    "# Series\n",
    "Series 的標籤都是被存在一個**numpy Index**物件中\n",
    "\n",
    "```python\n",
    "ser1.index\n",
    "# Index(['a', 'b', 'c', 'd', 'e'], dtype='object')\n",
    "```"
   ]
  },
  {
   "cell_type": "code",
   "execution_count": 40,
   "metadata": {
    "colab": {},
    "colab_type": "code",
    "id": "Yszs_JxIsU3f"
   },
   "outputs": [
    {
     "output_type": "execute_result",
     "data": {
      "text/plain": "Index(['a', 'b', 'c', 'd', 'e'], dtype='object')"
     },
     "metadata": {},
     "execution_count": 40
    }
   ],
   "source": [
    "ser1.index"
   ]
  },
  {
   "cell_type": "markdown",
   "metadata": {
    "colab_type": "text",
    "id": "yDNmpTfssU3o"
   },
   "source": [
    "# 另一種讀取序列資料的方式\n",
    "\n",
    "loc 方法：\n",
    "\n",
    "```python\n",
    "ser1.loc[\"a\"]\n",
    "```"
   ]
  },
  {
   "cell_type": "code",
   "execution_count": 41,
   "metadata": {
    "colab": {},
    "colab_type": "code",
    "id": "cxiXaQkrsU3p"
   },
   "outputs": [
    {
     "output_type": "execute_result",
     "data": {
      "text/plain": "1"
     },
     "metadata": {},
     "execution_count": 41
    }
   ],
   "source": [
    "ser1.loc[\"a\"]"
   ]
  },
  {
   "cell_type": "markdown",
   "metadata": {
    "colab_type": "text",
    "id": "kSz4Vl-m0-Wa"
   },
   "source": [
    "我們發現，居然可以透過指定標籤來選取 Series 内的資料，這樣我們在用 Pandas 操作資料時就多了一點自由度。"
   ]
  },
  {
   "cell_type": "markdown",
   "metadata": {
    "colab_type": "text",
    "id": "EpZwNHJjsU3r"
   },
   "source": [
    "# 另一種切片序列資料的方式\n",
    "\n",
    "loc 方法：\n",
    "\n",
    "```python\n",
    "ser1.loc[\"a\":\"c\"]\n",
    "```"
   ]
  },
  {
   "cell_type": "code",
   "execution_count": 42,
   "metadata": {
    "colab": {},
    "colab_type": "code",
    "id": "4WrUdMTzsU3s"
   },
   "outputs": [
    {
     "output_type": "execute_result",
     "data": {
      "text/plain": "a    1\nb    2\nc    3\ndtype: int64"
     },
     "metadata": {},
     "execution_count": 42
    }
   ],
   "source": [
    "ser1.loc[\"a\":\"c\"]"
   ]
  },
  {
   "cell_type": "markdown",
   "metadata": {
    "colab_type": "text",
    "id": "77ADl-ivsU3u"
   },
   "source": [
    "# .loc vs .iloc\n",
    "\n",
    "- .loc 是透過標籤查找\n",
    "\n",
    "- .iloc 是透過索引值查找"
   ]
  },
  {
   "cell_type": "code",
   "execution_count": 0,
   "metadata": {
    "colab": {},
    "colab_type": "code",
    "id": "mx9CXJuHsU3v"
   },
   "outputs": [],
   "source": []
  },
  {
   "cell_type": "markdown",
   "metadata": {
    "colab_type": "text",
    "id": "OaQ_x5_EsU32"
   },
   "source": [
    "# 提取 Series 内的資料\n",
    "\n",
    "提取多筆不連續的資料可以透過指定多筆數字的**索引值**\n",
    "\n",
    "```python\n",
    "ser1.iloc[[0, 2, 4]]\n",
    "```"
   ]
  },
  {
   "cell_type": "code",
   "execution_count": 44,
   "metadata": {
    "colab": {},
    "colab_type": "code",
    "id": "tJNFlDkysU33"
   },
   "outputs": [
    {
     "output_type": "execute_result",
     "data": {
      "text/plain": "a    1\nc    3\ne    5\ndtype: int64"
     },
     "metadata": {},
     "execution_count": 44
    }
   ],
   "source": [
    "ser1.iloc[[0, 2, 4]]"
   ]
  },
  {
   "cell_type": "markdown",
   "metadata": {
    "colab_type": "text",
    "id": "qi6qLzTasU3y"
   },
   "source": [
    "# 提取 Series 内的資料\n",
    "\n",
    "提取多筆**不連續**的資料也可以透過指定多個標籤，並將標籤放入 List 内：\n",
    "```python\n",
    "ser1.loc[['a', 'c', 'e']]\n",
    "```"
   ]
  },
  {
   "cell_type": "code",
   "execution_count": 45,
   "metadata": {
    "colab": {},
    "colab_type": "code",
    "id": "i7615JrvsU30"
   },
   "outputs": [
    {
     "output_type": "execute_result",
     "data": {
      "text/plain": "15"
     },
     "metadata": {},
     "execution_count": 45
    }
   ],
   "source": [
    "ser1.sum()"
   ]
  },
  {
   "cell_type": "code",
   "execution_count": 46,
   "metadata": {},
   "outputs": [
    {
     "output_type": "execute_result",
     "data": {
      "text/plain": "3.0"
     },
     "metadata": {},
     "execution_count": 46
    }
   ],
   "source": [
    "ser1.mean()"
   ]
  },
  {
   "cell_type": "code",
   "execution_count": 47,
   "metadata": {},
   "outputs": [
    {
     "output_type": "execute_result",
     "data": {
      "text/plain": "1.5811388300841898"
     },
     "metadata": {},
     "execution_count": 47
    }
   ],
   "source": [
    "ser1.std()"
   ]
  },
  {
   "cell_type": "code",
   "execution_count": 48,
   "metadata": {},
   "outputs": [
    {
     "output_type": "execute_result",
     "data": {
      "text/plain": "5"
     },
     "metadata": {},
     "execution_count": 48
    }
   ],
   "source": [
    "ser.max()"
   ]
  },
  {
   "cell_type": "code",
   "execution_count": 49,
   "metadata": {},
   "outputs": [
    {
     "output_type": "execute_result",
     "data": {
      "text/plain": "1"
     },
     "metadata": {},
     "execution_count": 49
    }
   ],
   "source": [
    "ser.min()"
   ]
  },
  {
   "cell_type": "markdown",
   "metadata": {
    "colab_type": "text",
    "id": "8hfKi9U0sU36"
   },
   "source": [
    "# Series 一些常用的功能\n",
    "\n",
    "加總：\n",
    "\n",
    "```python\n",
    "ser1.sum()\n",
    "```\n",
    "最大：\n",
    "```python\n",
    "ser1.max()\n",
    "```\n",
    "最小：\n",
    "```python\n",
    "ser1.min()\n",
    "```\n",
    "平均：\n",
    "```python\n",
    "ser1.mean()\n",
    "```\n",
    "標準差：\n",
    "\n",
    "```python\n",
    "ser1.std()\n",
    "```"
   ]
  },
  {
   "cell_type": "code",
   "execution_count": 50,
   "metadata": {
    "colab": {},
    "colab_type": "code",
    "id": "IxHhfMvEsU37"
   },
   "outputs": [
    {
     "output_type": "execute_result",
     "data": {
      "text/plain": "1.5811388300841898"
     },
     "metadata": {},
     "execution_count": 50
    }
   ],
   "source": [
    "#加總：\n",
    "ser1.sum()\n",
    "#最大：\n",
    "ser1.max()\n",
    "#最小：\n",
    "ser1.min()\n",
    "#平均：\n",
    "ser1.mean()\n",
    "#標準差：\n",
    "ser1.std()"
   ]
  },
  {
   "cell_type": "markdown",
   "metadata": {
    "colab_type": "text",
    "id": "NSawpVo0sU3-"
   },
   "source": [
    "# cumsum() 纍加\n",
    "\n",
    "名稱是英文 cumulative summation 的縮寫，代表將資料由上而下的纍加：\n",
    "\n",
    "```python\n",
    "ser1.cumsum()\n",
    "```\n",
    "\n",
    "官方文件：[連結](https://pandas.pydata.org/pandas-docs/stable/reference/api/pandas.DataFrame.cumsum.html)"
   ]
  },
  {
   "cell_type": "code",
   "execution_count": 51,
   "metadata": {
    "colab": {},
    "colab_type": "code",
    "id": "SDYIuShrsU3_"
   },
   "outputs": [
    {
     "output_type": "execute_result",
     "data": {
      "text/plain": "a     1\nb     3\nc     6\nd    10\ne    15\ndtype: int64"
     },
     "metadata": {},
     "execution_count": 51
    }
   ],
   "source": [
    "ser1.cumsum()"
   ]
  },
  {
   "cell_type": "markdown",
   "metadata": {
    "colab_type": "text",
    "id": "BWU_y-2QsU4D"
   },
   "source": [
    "# cumprod() 纍乘\n",
    "\n",
    "名稱是英文 cumulative product 的縮寫，代表將資料由上而下的纍乘：\n",
    "\n",
    "```python\n",
    "ser1.cumprod()\n",
    "```"
   ]
  },
  {
   "cell_type": "code",
   "execution_count": 52,
   "metadata": {
    "colab": {},
    "colab_type": "code",
    "id": "DnEzxbUEsU4H"
   },
   "outputs": [
    {
     "output_type": "execute_result",
     "data": {
      "text/plain": "a      1\nb      2\nc      6\nd     24\ne    120\ndtype: int64"
     },
     "metadata": {},
     "execution_count": 52
    }
   ],
   "source": [
    "ser1.cumprod()"
   ]
  },
  {
   "cell_type": "markdown",
   "metadata": {
    "colab_type": "text",
    "id": "cWySYq-BsU4P"
   },
   "source": [
    "# Series 更新現有的值\n",
    "```python\n",
    "ser1.loc['a'] = 8\n",
    "ser1\n",
    "```"
   ]
  },
  {
   "cell_type": "code",
   "execution_count": 54,
   "metadata": {
    "colab": {},
    "colab_type": "code",
    "id": "88VmLSWSsU4Q"
   },
   "outputs": [
    {
     "output_type": "execute_result",
     "data": {
      "text/plain": "a     8\nb     9\nc    10\nd    11\ne     5\ndtype: int64"
     },
     "metadata": {},
     "execution_count": 54
    }
   ],
   "source": [
    "ser1.iloc[0] = 8\n",
    "ser1"
   ]
  },
  {
   "cell_type": "code",
   "execution_count": 55,
   "metadata": {},
   "outputs": [
    {
     "output_type": "execute_result",
     "data": {
      "text/plain": "a     8\nb     9\nc    10\nd    11\ne     5\ndtype: int64"
     },
     "metadata": {},
     "execution_count": 55
    }
   ],
   "source": [
    "ser1.loc[\"a\"] = 8\n",
    "ser1"
   ]
  },
  {
   "cell_type": "code",
   "execution_count": 57,
   "metadata": {},
   "outputs": [
    {
     "output_type": "execute_result",
     "data": {
      "text/plain": "a     8\nb     9\nc    10\nd    12\ne     5\ndtype: int64"
     },
     "metadata": {},
     "execution_count": 57
    }
   ],
   "source": [
    "ser1.loc[\"b\":\"d\"] = [9, 10, 12]\n",
    "ser1"
   ]
  },
  {
   "cell_type": "markdown",
   "metadata": {
    "colab_type": "text",
    "id": "n6kmzqk5sU4U"
   },
   "source": [
    "# Series 更新多筆值\n",
    "```python\n",
    "ser1.loc[\"b\":\"d\"] = [9, 10, 11]\n",
    "ser1\n",
    "```\n",
    "\n",
    "需要注意的是，和用索引值切片不一樣的是，用 key 切片**會包含結束點自己 (也就是 key 所對應的值)**"
   ]
  },
  {
   "cell_type": "code",
   "execution_count": 58,
   "metadata": {
    "colab": {},
    "colab_type": "code",
    "id": "GaQw9YeTsU4V"
   },
   "outputs": [
    {
     "output_type": "execute_result",
     "data": {
      "text/plain": "a     8\nb     9\nc    10\nd    11\ne     5\ndtype: int64"
     },
     "metadata": {},
     "execution_count": 58
    }
   ],
   "source": [
    "ser1.loc[\"b\":\"d\"] = [9, 10, 11]\n",
    "ser1"
   ]
  },
  {
   "cell_type": "markdown",
   "metadata": {
    "colab_type": "text",
    "id": "bRv-5t4FsU4Y"
   },
   "source": [
    "# 刪除 Series 内的資料\n",
    "\n",
    "```python\n",
    "ser1.drop(labels='a')\n",
    "```"
   ]
  },
  {
   "cell_type": "code",
   "execution_count": 59,
   "metadata": {
    "colab": {},
    "colab_type": "code",
    "id": "sz6W1zFTsU4Z"
   },
   "outputs": [
    {
     "output_type": "execute_result",
     "data": {
      "text/plain": "a    8\ne    5\ndtype: int64"
     },
     "metadata": {},
     "execution_count": 59
    }
   ],
   "source": [
    "ser1.drop(labels=[\"b\", \"c\", \"d\"])"
   ]
  },
  {
   "cell_type": "markdown",
   "metadata": {
    "colab_type": "text",
    "id": "GcV1M0FnsU4b"
   },
   "source": [
    "# 刪除多筆 Series 内的資料\n",
    "\n",
    "```python\n",
    "ser1.drop(labels=['b', 'c', 'd'])\n",
    "```\n"
   ]
  },
  {
   "cell_type": "code",
   "execution_count": 60,
   "metadata": {
    "colab": {},
    "colab_type": "code",
    "id": "fKzHS4casU4c"
   },
   "outputs": [
    {
     "output_type": "execute_result",
     "data": {
      "text/plain": "a    8\ne    5\ndtype: int64"
     },
     "metadata": {},
     "execution_count": 60
    }
   ],
   "source": [
    "ser1 = ser1.drop(labels=['b', 'c', 'd'])\n",
    "ser1"
   ]
  },
  {
   "cell_type": "code",
   "execution_count": 61,
   "metadata": {},
   "outputs": [
    {
     "output_type": "execute_result",
     "data": {
      "text/plain": "a    8\ne    5\ndtype: int64"
     },
     "metadata": {},
     "execution_count": 61
    }
   ],
   "source": [
    "ser1"
   ]
  },
  {
   "cell_type": "markdown",
   "metadata": {
    "colab_type": "text",
    "id": "iEDXDtT2sU4e"
   },
   "source": [
    "# 透過 dict 宣告 Series\n",
    "\n",
    "```python\n",
    "# series 每一個 index 都會對映到一個 value \n",
    "data = {\n",
    "    'a': 1,\n",
    "    'b': 3,\n",
    "    'c': 5,\n",
    "    'd': 7,\n",
    "    'e': 9\n",
    "}\n",
    "\n",
    "pd.Series(data)\n",
    "```"
   ]
  },
  {
   "cell_type": "code",
   "execution_count": 62,
   "metadata": {
    "colab": {},
    "colab_type": "code",
    "id": "sHEoiUh5sU4e"
   },
   "outputs": [
    {
     "output_type": "execute_result",
     "data": {
      "text/plain": "a    1\nb    3\nc    5\nd    7\ne    9\ndtype: int64"
     },
     "metadata": {},
     "execution_count": 62
    }
   ],
   "source": [
    "data = {\n",
    "    'a': 1,\n",
    "    'b': 3,\n",
    "    'c': 5,\n",
    "    'd': 7,\n",
    "    'e': 9\n",
    "}\n",
    "\n",
    "ser2 = pd.Series(data)\n",
    "ser2"
   ]
  },
  {
   "cell_type": "code",
   "execution_count": 63,
   "metadata": {},
   "outputs": [
    {
     "output_type": "execute_result",
     "data": {
      "text/plain": "a    1\nb    3\nc    5\nd    7\ne    9\ndtype: int64"
     },
     "metadata": {},
     "execution_count": 63
    }
   ],
   "source": [
    "ser2"
   ]
  },
  {
   "cell_type": "code",
   "execution_count": 64,
   "metadata": {},
   "outputs": [
    {
     "output_type": "execute_result",
     "data": {
      "text/plain": "c    5\nd    7\ne    9\ndtype: int64"
     },
     "metadata": {},
     "execution_count": 64
    }
   ],
   "source": [
    "ser2[ ser2 > 3 ]"
   ]
  },
  {
   "cell_type": "markdown",
   "metadata": {
    "colab_type": "text",
    "id": "LPnxQda7sU4g"
   },
   "source": [
    "# 小結\n",
    "\n",
    "- Series 適合處理一維的資料\n",
    "- Series 的 index 可以被指定**獨特的標籤（這點與 Dictionary 十分類似）**\n",
    "- Series 可以被看作是一個**有序的字典 (dict)**\n"
   ]
  },
  {
   "cell_type": "code",
   "execution_count": 0,
   "metadata": {
    "colab": {},
    "colab_type": "code",
    "id": "99MAx0RIsU4h"
   },
   "outputs": [],
   "source": []
  },
  {
   "cell_type": "markdown",
   "metadata": {
    "colab_type": "text",
    "id": "oz0wmuxXsU4i"
   },
   "source": [
    "# 與 Numpy 的整合\n",
    "\n",
    "```python\n",
    "import numpy as np\n",
    "\n",
    "pd.Series(np.arange(5))\n",
    "```"
   ]
  },
  {
   "cell_type": "code",
   "execution_count": 65,
   "metadata": {
    "colab": {},
    "colab_type": "code",
    "id": "4gzR1TSBsU4j"
   },
   "outputs": [],
   "source": [
    "import numpy as np"
   ]
  },
  {
   "cell_type": "markdown",
   "metadata": {
    "colab_type": "text",
    "id": "4PhKucj-sU4m"
   },
   "source": [
    "# 與 Numpy 的整合\n",
    "\n",
    "```python\n",
    "even_num = np.arange(2, 11, 2)\n",
    "\n",
    "pd.Series(even_num)\n",
    "```"
   ]
  },
  {
   "cell_type": "code",
   "execution_count": 66,
   "metadata": {
    "colab": {},
    "colab_type": "code",
    "id": "8sCFem2tsU4o"
   },
   "outputs": [
    {
     "output_type": "execute_result",
     "data": {
      "text/plain": "0     2\n1     4\n2     6\n3     8\n4    10\ndtype: int32"
     },
     "metadata": {},
     "execution_count": 66
    }
   ],
   "source": [
    "even_num = np.arange(2, 11, 2)\n",
    "\n",
    "pd.Series(even_num)"
   ]
  },
  {
   "cell_type": "markdown",
   "metadata": {
    "colab_type": "text",
    "id": "53eXtnHcsU4q"
   },
   "source": [
    "# 產生亂數 Series\n",
    "\n",
    "```python\n",
    "import numpy as np\n",
    "rand_array = np.random.rand(10)\n",
    "pd.Series(rand_array)\n",
    "```\n",
    "或是\n",
    "```python\n",
    "pd.Series(np.random.rand(5))\n",
    "```"
   ]
  },
  {
   "cell_type": "code",
   "execution_count": 67,
   "metadata": {
    "colab": {},
    "colab_type": "code",
    "id": "qrmLoJeusU4q",
    "scrolled": true
   },
   "outputs": [
    {
     "output_type": "execute_result",
     "data": {
      "text/plain": "0    0.590676\n1    0.313378\n2    0.528439\n3    0.898905\n4    0.708834\ndtype: float64"
     },
     "metadata": {},
     "execution_count": 67
    }
   ],
   "source": [
    "pd.Series(np.random.rand(5))"
   ]
  },
  {
   "cell_type": "markdown",
   "metadata": {
    "colab_type": "text",
    "id": "4PrAjVwFsU4s"
   },
   "source": [
    "# head(), tail(), take()\n",
    "\n",
    "```python\n",
    "# 用 head 查詢前五筆資料\n",
    "ser2.head()\n",
    "\n",
    "# 用 tail 查詢後三筆資料\n",
    "ser2.tail(3)\n",
    "\n",
    "# 用 take 指定查詢索引值為 2, 4, 0 的資料\n",
    "ser2.take([1, 6, 5])\n",
    "```\n"
   ]
  },
  {
   "cell_type": "code",
   "execution_count": 73,
   "metadata": {
    "colab": {},
    "colab_type": "code",
    "id": "BT2nxauqsU4t"
   },
   "outputs": [
    {
     "output_type": "execute_result",
     "data": {
      "text/plain": "b    3\nd    7\ne    9\ndtype: int64"
     },
     "metadata": {},
     "execution_count": 73
    }
   ],
   "source": [
    "# 用 head 查詢前五筆資料\n",
    "ser2.head()\n",
    "\n",
    "# 用 tail 查詢後三筆資料\n",
    "ser2.tail(3)\n",
    "\n",
    "# 用 take 指定查詢索引值\n",
    "ser2.take([1, 3, 4])"
   ]
  },
  {
   "cell_type": "markdown",
   "metadata": {
    "colab_type": "text",
    "id": "cSOsL5oEsU4x"
   },
   "source": [
    "# Series.isin\n",
    "\n",
    "檢查輸入的資料是否在 series 裡面\n",
    "```python\n",
    "ser2.isin([3, 5])\n",
    "```"
   ]
  },
  {
   "cell_type": "code",
   "execution_count": 74,
   "metadata": {
    "colab": {},
    "colab_type": "code",
    "id": "6sNTh_IxsU4y"
   },
   "outputs": [
    {
     "output_type": "execute_result",
     "data": {
      "text/plain": "a    False\nb     True\nc     True\nd    False\ne    False\ndtype: bool"
     },
     "metadata": {},
     "execution_count": 74
    }
   ],
   "source": [
    "ser2.isin([3, 5])"
   ]
  },
  {
   "cell_type": "markdown",
   "metadata": {
    "colab_type": "text",
    "id": "ufpAVGarsU41"
   },
   "source": [
    "# Series 的逐元運算\n",
    "\n",
    "語法上與 Numpy 的逐元素運算一樣\n",
    "\n",
    "```python\n",
    "ser2 * 2\n",
    "```"
   ]
  },
  {
   "cell_type": "code",
   "execution_count": 75,
   "metadata": {
    "colab": {},
    "colab_type": "code",
    "id": "Hx1dwl4YsU42"
   },
   "outputs": [
    {
     "output_type": "execute_result",
     "data": {
      "text/plain": "a     2\nb     6\nc    10\nd    14\ne    18\ndtype: int64"
     },
     "metadata": {},
     "execution_count": 75
    }
   ],
   "source": [
    "ser2 * 2"
   ]
  },
  {
   "cell_type": "markdown",
   "metadata": {
    "colab_type": "text",
    "id": "fmRHXrUfsU45"
   },
   "source": [
    "# Series 的逐元運算\n",
    "\n",
    "讓每一筆資料都去和 3 做比較\n",
    "\n",
    "```python\n",
    "ser2 > 3\n",
    "```\n",
    "\n",
    "注意比較式的逐元素運算會產生一個 Boolean 的 Series"
   ]
  },
  {
   "cell_type": "code",
   "execution_count": 76,
   "metadata": {
    "colab": {},
    "colab_type": "code",
    "id": "FESaMKoqsU45"
   },
   "outputs": [
    {
     "output_type": "execute_result",
     "data": {
      "text/plain": "a    False\nb    False\nc     True\nd     True\ne     True\ndtype: bool"
     },
     "metadata": {},
     "execution_count": 76
    }
   ],
   "source": [
    "ser2 > 3"
   ]
  },
  {
   "cell_type": "markdown",
   "metadata": {
    "colab_type": "text",
    "id": "nZMkyFKvsU49"
   },
   "source": [
    "# Series 的逐元運算\n",
    "\n",
    "若希望 Series 能夠有類似 filter() 函數的過濾功能，需要將剛才產生的 Boolean Series 套回到原本的 Series\n",
    "\n",
    "```python\n",
    "ser2[ser2 > 3]\n",
    "```\n",
    "\n",
    "可以想象成把**比較結果為 True 的資料切片出來**的概念"
   ]
  },
  {
   "cell_type": "code",
   "execution_count": 77,
   "metadata": {
    "colab": {},
    "colab_type": "code",
    "id": "rcWReZicsU4_"
   },
   "outputs": [
    {
     "output_type": "execute_result",
     "data": {
      "text/plain": "c    5\nd    7\ne    9\ndtype: int64"
     },
     "metadata": {},
     "execution_count": 77
    }
   ],
   "source": [
    "ser2[ser2 > 3]"
   ]
  },
  {
   "cell_type": "markdown",
   "metadata": {
    "colab_type": "text",
    "id": "AodZWDulsU5C"
   },
   "source": [
    "# 隨堂練習：\n",
    "\n",
    "以下是每一位復仇者聯盟成員的名稱與年齡：\n",
    "\n",
    "```python\n",
    "avengers = {\n",
    "    \"ironman\": 46,\n",
    "    \"captainamerica\": 99,\n",
    "    \"blackwidow\": 37,\n",
    "    \"thor\": 430,\n",
    "    \"hulk\": 42,\n",
    "    \"spiderman\": 15,\n",
    "    \"blackpanther\": 39\n",
    "}\n",
    "\n",
    "ser_age = pd.Series(avengers, index = avengers.keys())\n",
    "```\n",
    "\n",
    "請計算所有復仇者在五年前的歲數"
   ]
  },
  {
   "cell_type": "code",
   "execution_count": 78,
   "metadata": {
    "colab": {},
    "colab_type": "code",
    "id": "u8BMUp93sU5D"
   },
   "outputs": [
    {
     "output_type": "execute_result",
     "data": {
      "text/plain": "blackpanther       39\nblackwidow         37\ncaptainamerica     99\nhulk               42\nironman            46\nspiderman          15\nthor              430\ndtype: int64"
     },
     "metadata": {},
     "execution_count": 78
    }
   ],
   "source": [
    "avengers = {\n",
    "    \"ironman\": 46,\n",
    "    \"captainamerica\": 99,\n",
    "    \"blackwidow\": 37,\n",
    "    \"thor\": 430,\n",
    "    \"hulk\": 42,\n",
    "    \"spiderman\": 15,\n",
    "    \"blackpanther\": 39\n",
    "}\n",
    "\n",
    "ser3 = pd.Series(avengers)\n",
    "ser3"
   ]
  },
  {
   "cell_type": "code",
   "execution_count": 79,
   "metadata": {},
   "outputs": [
    {
     "output_type": "execute_result",
     "data": {
      "text/plain": "blackpanther    39\nblackwidow      37\nhulk            42\nironman         46\nspiderman       15\ndtype: int64"
     },
     "metadata": {},
     "execution_count": 79
    }
   ],
   "source": [
    "ser3[ ser3 < 50 ]"
   ]
  },
  {
   "cell_type": "markdown",
   "metadata": {
    "colab_type": "text",
    "id": "glaE0PrlsU5I"
   },
   "source": [
    "# DataFrame（資料框架）\n",
    "- 表格型資料結構 (可以想像成是一個**虛擬的 Excel 試算表**)\n",
    "- 實際上是由多個 Series 組合起來的資料結構\n",
    "- 適用於封裝/處理二維的資料\n",
    "\n",
    "```python\n",
    "import pandas as pd\n",
    "```\n",
    "\n",
    "# 來建立一個 DataFrame\n",
    "\n",
    "```python\n",
    "avengers = {\n",
    "    \"name\": [\"ironman\",\"captainamerica\",\"blackwidow\",\"thor\",\"hulk\",\"spiderman\", \"blackpanther\"],\n",
    "    \"age\": [48, 100, 33, 430, 48, 15, 39],\n",
    "    \"superpower\": [False, True, False, True, True, True, False]\n",
    "}\n",
    "\n",
    "df = pd.DataFrame(avengers)\n",
    "print(type(df))\n",
    "print(df.info)\n",
    "```"
   ]
  },
  {
   "cell_type": "code",
   "execution_count": 80,
   "metadata": {
    "colab": {},
    "colab_type": "code",
    "id": "DAnsNsWlsU5I"
   },
   "outputs": [
    {
     "output_type": "execute_result",
     "data": {
      "text/plain": "   age            name  superpower\n0   48         ironman       False\n1  100  captainamerica        True\n2   33      blackwidow       False\n3  430            thor        True\n4   48            hulk        True\n5   15       spiderman        True\n6   39    blackpanther       False",
      "text/html": "<div>\n<style>\n    .dataframe thead tr:only-child th {\n        text-align: right;\n    }\n\n    .dataframe thead th {\n        text-align: left;\n    }\n\n    .dataframe tbody tr th {\n        vertical-align: top;\n    }\n</style>\n<table border=\"1\" class=\"dataframe\">\n  <thead>\n    <tr style=\"text-align: right;\">\n      <th></th>\n      <th>age</th>\n      <th>name</th>\n      <th>superpower</th>\n    </tr>\n  </thead>\n  <tbody>\n    <tr>\n      <th>0</th>\n      <td>48</td>\n      <td>ironman</td>\n      <td>False</td>\n    </tr>\n    <tr>\n      <th>1</th>\n      <td>100</td>\n      <td>captainamerica</td>\n      <td>True</td>\n    </tr>\n    <tr>\n      <th>2</th>\n      <td>33</td>\n      <td>blackwidow</td>\n      <td>False</td>\n    </tr>\n    <tr>\n      <th>3</th>\n      <td>430</td>\n      <td>thor</td>\n      <td>True</td>\n    </tr>\n    <tr>\n      <th>4</th>\n      <td>48</td>\n      <td>hulk</td>\n      <td>True</td>\n    </tr>\n    <tr>\n      <th>5</th>\n      <td>15</td>\n      <td>spiderman</td>\n      <td>True</td>\n    </tr>\n    <tr>\n      <th>6</th>\n      <td>39</td>\n      <td>blackpanther</td>\n      <td>False</td>\n    </tr>\n  </tbody>\n</table>\n</div>"
     },
     "metadata": {},
     "execution_count": 80
    }
   ],
   "source": [
    "avengers = {\n",
    "    \"name\": [\"ironman\",\"captainamerica\",\"blackwidow\",\"thor\",\"hulk\",\"spiderman\", \"blackpanther\"],\n",
    "    \"age\": [48, 100, 33, 430, 48, 15, 39],\n",
    "    \"superpower\": [False, True, False, True, True, True, False]\n",
    "}\n",
    "\n",
    "df = pd.DataFrame(avengers)\n",
    "df"
   ]
  },
  {
   "cell_type": "markdown",
   "metadata": {
    "colab_type": "text",
    "id": "208ec2WdsU5L"
   },
   "source": [
    "# describe()\n",
    "計算 \n",
    "```python\n",
    "df.describe()\n",
    "```\n"
   ]
  },
  {
   "cell_type": "code",
   "execution_count": 81,
   "metadata": {
    "colab": {},
    "colab_type": "code",
    "id": "GAlfpB9zsU5P"
   },
   "outputs": [
    {
     "output_type": "execute_result",
     "data": {
      "text/plain": "              age\ncount    7.000000\nmean   101.857143\nstd    147.036762\nmin     15.000000\n25%     36.000000\n50%     48.000000\n75%     74.000000\nmax    430.000000",
      "text/html": "<div>\n<style>\n    .dataframe thead tr:only-child th {\n        text-align: right;\n    }\n\n    .dataframe thead th {\n        text-align: left;\n    }\n\n    .dataframe tbody tr th {\n        vertical-align: top;\n    }\n</style>\n<table border=\"1\" class=\"dataframe\">\n  <thead>\n    <tr style=\"text-align: right;\">\n      <th></th>\n      <th>age</th>\n    </tr>\n  </thead>\n  <tbody>\n    <tr>\n      <th>count</th>\n      <td>7.000000</td>\n    </tr>\n    <tr>\n      <th>mean</th>\n      <td>101.857143</td>\n    </tr>\n    <tr>\n      <th>std</th>\n      <td>147.036762</td>\n    </tr>\n    <tr>\n      <th>min</th>\n      <td>15.000000</td>\n    </tr>\n    <tr>\n      <th>25%</th>\n      <td>36.000000</td>\n    </tr>\n    <tr>\n      <th>50%</th>\n      <td>48.000000</td>\n    </tr>\n    <tr>\n      <th>75%</th>\n      <td>74.000000</td>\n    </tr>\n    <tr>\n      <th>max</th>\n      <td>430.000000</td>\n    </tr>\n  </tbody>\n</table>\n</div>"
     },
     "metadata": {},
     "execution_count": 81
    }
   ],
   "source": [
    "df.describe()"
   ]
  },
  {
   "cell_type": "markdown",
   "metadata": {
    "colab_type": "text",
    "id": "cTbqZQEqsU5S"
   },
   "source": [
    "# head(), tail()\n",
    "```python\n",
    "# 找出最前面的5筆資料\n",
    "df.head()\n",
    "\n",
    "# 找出最前面的3筆資料\n",
    "df.head(3)\n",
    "\n",
    "# 找出最後面的5筆資料\n",
    "df.tail()\n",
    "\n",
    "# 找出最後面的3筆資料\n",
    "df.tail(3)\n",
    "```"
   ]
  },
  {
   "cell_type": "code",
   "execution_count": 82,
   "metadata": {
    "colab": {},
    "colab_type": "code",
    "id": "-EZQ_M8PC5NN"
   },
   "outputs": [
    {
     "output_type": "execute_result",
     "data": {
      "text/plain": "   age            name  superpower\n0   48         ironman       False\n1  100  captainamerica        True\n2   33      blackwidow       False\n3  430            thor        True\n4   48            hulk        True\n5   15       spiderman        True\n6   39    blackpanther       False",
      "text/html": "<div>\n<style>\n    .dataframe thead tr:only-child th {\n        text-align: right;\n    }\n\n    .dataframe thead th {\n        text-align: left;\n    }\n\n    .dataframe tbody tr th {\n        vertical-align: top;\n    }\n</style>\n<table border=\"1\" class=\"dataframe\">\n  <thead>\n    <tr style=\"text-align: right;\">\n      <th></th>\n      <th>age</th>\n      <th>name</th>\n      <th>superpower</th>\n    </tr>\n  </thead>\n  <tbody>\n    <tr>\n      <th>0</th>\n      <td>48</td>\n      <td>ironman</td>\n      <td>False</td>\n    </tr>\n    <tr>\n      <th>1</th>\n      <td>100</td>\n      <td>captainamerica</td>\n      <td>True</td>\n    </tr>\n    <tr>\n      <th>2</th>\n      <td>33</td>\n      <td>blackwidow</td>\n      <td>False</td>\n    </tr>\n    <tr>\n      <th>3</th>\n      <td>430</td>\n      <td>thor</td>\n      <td>True</td>\n    </tr>\n    <tr>\n      <th>4</th>\n      <td>48</td>\n      <td>hulk</td>\n      <td>True</td>\n    </tr>\n    <tr>\n      <th>5</th>\n      <td>15</td>\n      <td>spiderman</td>\n      <td>True</td>\n    </tr>\n    <tr>\n      <th>6</th>\n      <td>39</td>\n      <td>blackpanther</td>\n      <td>False</td>\n    </tr>\n  </tbody>\n</table>\n</div>"
     },
     "metadata": {},
     "execution_count": 82
    }
   ],
   "source": [
    "df"
   ]
  },
  {
   "cell_type": "code",
   "execution_count": 83,
   "metadata": {
    "colab": {},
    "colab_type": "code",
    "id": "mQiNrODvsU5Y"
   },
   "outputs": [
    {
     "output_type": "execute_result",
     "data": {
      "text/plain": "   age            name  superpower  old_age\n0   48         ironman       False       43\n1  100  captainamerica        True       95\n2   33      blackwidow       False       28\n3  430            thor        True      425\n4   48            hulk        True       43\n5   15       spiderman        True       10\n6   39    blackpanther       False       34",
      "text/html": "<div>\n<style>\n    .dataframe thead tr:only-child th {\n        text-align: right;\n    }\n\n    .dataframe thead th {\n        text-align: left;\n    }\n\n    .dataframe tbody tr th {\n        vertical-align: top;\n    }\n</style>\n<table border=\"1\" class=\"dataframe\">\n  <thead>\n    <tr style=\"text-align: right;\">\n      <th></th>\n      <th>age</th>\n      <th>name</th>\n      <th>superpower</th>\n      <th>old_age</th>\n    </tr>\n  </thead>\n  <tbody>\n    <tr>\n      <th>0</th>\n      <td>48</td>\n      <td>ironman</td>\n      <td>False</td>\n      <td>43</td>\n    </tr>\n    <tr>\n      <th>1</th>\n      <td>100</td>\n      <td>captainamerica</td>\n      <td>True</td>\n      <td>95</td>\n    </tr>\n    <tr>\n      <th>2</th>\n      <td>33</td>\n      <td>blackwidow</td>\n      <td>False</td>\n      <td>28</td>\n    </tr>\n    <tr>\n      <th>3</th>\n      <td>430</td>\n      <td>thor</td>\n      <td>True</td>\n      <td>425</td>\n    </tr>\n    <tr>\n      <th>4</th>\n      <td>48</td>\n      <td>hulk</td>\n      <td>True</td>\n      <td>43</td>\n    </tr>\n    <tr>\n      <th>5</th>\n      <td>15</td>\n      <td>spiderman</td>\n      <td>True</td>\n      <td>10</td>\n    </tr>\n    <tr>\n      <th>6</th>\n      <td>39</td>\n      <td>blackpanther</td>\n      <td>False</td>\n      <td>34</td>\n    </tr>\n  </tbody>\n</table>\n</div>"
     },
     "metadata": {},
     "execution_count": 83
    }
   ],
   "source": [
    "df[\"old_age\"] = df[\"age\"] - 5\n",
    "df"
   ]
  },
  {
   "cell_type": "markdown",
   "metadata": {
    "colab_type": "text",
    "id": "Q_04MMKBsU5c"
   },
   "source": [
    "# 新增一欄資料\n",
    "\n",
    "```python\n",
    "# 可以用現有欄的資料算出\n",
    "df['age_2_yr_ago'] = df['age'] - 2\n",
    "```"
   ]
  },
  {
   "cell_type": "code",
   "execution_count": 84,
   "metadata": {
    "colab": {},
    "colab_type": "code",
    "id": "WJU9kngssU5d"
   },
   "outputs": [],
   "source": [
    "df['age_2_yr_ago'] = df['age'] - 2"
   ]
  },
  {
   "cell_type": "markdown",
   "metadata": {
    "colab_type": "text",
    "id": "KRH9FNmasU5g"
   },
   "source": [
    "# 新增一欄資料\n",
    "\n",
    "```python\n",
    "# 直接用 List 指定\n",
    "df['weapon'] = [\"armor\", \"shield\", \"taser\", \"hammer\", \"himself\", \"web\", \"claws\"]\n",
    "```"
   ]
  },
  {
   "cell_type": "code",
   "execution_count": 85,
   "metadata": {
    "colab": {},
    "colab_type": "code",
    "id": "zEoofPLmsU5h"
   },
   "outputs": [
    {
     "output_type": "execute_result",
     "data": {
      "text/plain": "   age            name  superpower  old_age  age_2_yr_ago   weapon\n0   48         ironman       False       43            46    armor\n1  100  captainamerica        True       95            98   shield\n2   33      blackwidow       False       28            31    taser\n3  430            thor        True      425           428   hammer\n4   48            hulk        True       43            46  himself\n5   15       spiderman        True       10            13      web\n6   39    blackpanther       False       34            37    claws",
      "text/html": "<div>\n<style>\n    .dataframe thead tr:only-child th {\n        text-align: right;\n    }\n\n    .dataframe thead th {\n        text-align: left;\n    }\n\n    .dataframe tbody tr th {\n        vertical-align: top;\n    }\n</style>\n<table border=\"1\" class=\"dataframe\">\n  <thead>\n    <tr style=\"text-align: right;\">\n      <th></th>\n      <th>age</th>\n      <th>name</th>\n      <th>superpower</th>\n      <th>old_age</th>\n      <th>age_2_yr_ago</th>\n      <th>weapon</th>\n    </tr>\n  </thead>\n  <tbody>\n    <tr>\n      <th>0</th>\n      <td>48</td>\n      <td>ironman</td>\n      <td>False</td>\n      <td>43</td>\n      <td>46</td>\n      <td>armor</td>\n    </tr>\n    <tr>\n      <th>1</th>\n      <td>100</td>\n      <td>captainamerica</td>\n      <td>True</td>\n      <td>95</td>\n      <td>98</td>\n      <td>shield</td>\n    </tr>\n    <tr>\n      <th>2</th>\n      <td>33</td>\n      <td>blackwidow</td>\n      <td>False</td>\n      <td>28</td>\n      <td>31</td>\n      <td>taser</td>\n    </tr>\n    <tr>\n      <th>3</th>\n      <td>430</td>\n      <td>thor</td>\n      <td>True</td>\n      <td>425</td>\n      <td>428</td>\n      <td>hammer</td>\n    </tr>\n    <tr>\n      <th>4</th>\n      <td>48</td>\n      <td>hulk</td>\n      <td>True</td>\n      <td>43</td>\n      <td>46</td>\n      <td>himself</td>\n    </tr>\n    <tr>\n      <th>5</th>\n      <td>15</td>\n      <td>spiderman</td>\n      <td>True</td>\n      <td>10</td>\n      <td>13</td>\n      <td>web</td>\n    </tr>\n    <tr>\n      <th>6</th>\n      <td>39</td>\n      <td>blackpanther</td>\n      <td>False</td>\n      <td>34</td>\n      <td>37</td>\n      <td>claws</td>\n    </tr>\n  </tbody>\n</table>\n</div>"
     },
     "metadata": {},
     "execution_count": 85
    }
   ],
   "source": [
    "df[\"weapon\"] = [\"armor\", \"shield\", \"taser\", \"hammer\", \"himself\", \"web\", \"claws\"]\n",
    "df"
   ]
  },
  {
   "cell_type": "code",
   "execution_count": 86,
   "metadata": {},
   "outputs": [
    {
     "output_type": "execute_result",
     "data": {
      "text/plain": "   age          name  superpower  old_age  age_2_yr_ago   weapon\n0   48       ironman       False       43            46    armor\n2   33    blackwidow       False       28            31    taser\n4   48          hulk        True       43            46  himself\n5   15     spiderman        True       10            13      web\n6   39  blackpanther       False       34            37    claws",
      "text/html": "<div>\n<style>\n    .dataframe thead tr:only-child th {\n        text-align: right;\n    }\n\n    .dataframe thead th {\n        text-align: left;\n    }\n\n    .dataframe tbody tr th {\n        vertical-align: top;\n    }\n</style>\n<table border=\"1\" class=\"dataframe\">\n  <thead>\n    <tr style=\"text-align: right;\">\n      <th></th>\n      <th>age</th>\n      <th>name</th>\n      <th>superpower</th>\n      <th>old_age</th>\n      <th>age_2_yr_ago</th>\n      <th>weapon</th>\n    </tr>\n  </thead>\n  <tbody>\n    <tr>\n      <th>0</th>\n      <td>48</td>\n      <td>ironman</td>\n      <td>False</td>\n      <td>43</td>\n      <td>46</td>\n      <td>armor</td>\n    </tr>\n    <tr>\n      <th>2</th>\n      <td>33</td>\n      <td>blackwidow</td>\n      <td>False</td>\n      <td>28</td>\n      <td>31</td>\n      <td>taser</td>\n    </tr>\n    <tr>\n      <th>4</th>\n      <td>48</td>\n      <td>hulk</td>\n      <td>True</td>\n      <td>43</td>\n      <td>46</td>\n      <td>himself</td>\n    </tr>\n    <tr>\n      <th>5</th>\n      <td>15</td>\n      <td>spiderman</td>\n      <td>True</td>\n      <td>10</td>\n      <td>13</td>\n      <td>web</td>\n    </tr>\n    <tr>\n      <th>6</th>\n      <td>39</td>\n      <td>blackpanther</td>\n      <td>False</td>\n      <td>34</td>\n      <td>37</td>\n      <td>claws</td>\n    </tr>\n  </tbody>\n</table>\n</div>"
     },
     "metadata": {},
     "execution_count": 86
    }
   ],
   "source": [
    "df[ df[\"age\"] < 50 ]"
   ]
  },
  {
   "cell_type": "code",
   "execution_count": 87,
   "metadata": {},
   "outputs": [
    {
     "output_type": "execute_result",
     "data": {
      "text/plain": "   age            name  superpower  old_age  age_2_yr_ago   weapon\n1  100  captainamerica        True       95            98   shield\n3  430            thor        True      425           428   hammer\n4   48            hulk        True       43            46  himself\n5   15       spiderman        True       10            13      web",
      "text/html": "<div>\n<style>\n    .dataframe thead tr:only-child th {\n        text-align: right;\n    }\n\n    .dataframe thead th {\n        text-align: left;\n    }\n\n    .dataframe tbody tr th {\n        vertical-align: top;\n    }\n</style>\n<table border=\"1\" class=\"dataframe\">\n  <thead>\n    <tr style=\"text-align: right;\">\n      <th></th>\n      <th>age</th>\n      <th>name</th>\n      <th>superpower</th>\n      <th>old_age</th>\n      <th>age_2_yr_ago</th>\n      <th>weapon</th>\n    </tr>\n  </thead>\n  <tbody>\n    <tr>\n      <th>1</th>\n      <td>100</td>\n      <td>captainamerica</td>\n      <td>True</td>\n      <td>95</td>\n      <td>98</td>\n      <td>shield</td>\n    </tr>\n    <tr>\n      <th>3</th>\n      <td>430</td>\n      <td>thor</td>\n      <td>True</td>\n      <td>425</td>\n      <td>428</td>\n      <td>hammer</td>\n    </tr>\n    <tr>\n      <th>4</th>\n      <td>48</td>\n      <td>hulk</td>\n      <td>True</td>\n      <td>43</td>\n      <td>46</td>\n      <td>himself</td>\n    </tr>\n    <tr>\n      <th>5</th>\n      <td>15</td>\n      <td>spiderman</td>\n      <td>True</td>\n      <td>10</td>\n      <td>13</td>\n      <td>web</td>\n    </tr>\n  </tbody>\n</table>\n</div>"
     },
     "metadata": {},
     "execution_count": 87
    }
   ],
   "source": [
    "df[ df[\"superpower\"] ]"
   ]
  },
  {
   "cell_type": "code",
   "execution_count": 88,
   "metadata": {},
   "outputs": [
    {
     "output_type": "execute_result",
     "data": {
      "text/plain": "   age            name  superpower  old_age  age_2_yr_ago  weapon\n0   48         ironman       False       43            46   armor\n1  100  captainamerica        True       95            98  shield\n2   33      blackwidow       False       28            31   taser\n3  430            thor        True      425           428  hammer\n6   39    blackpanther       False       34            37   claws",
      "text/html": "<div>\n<style>\n    .dataframe thead tr:only-child th {\n        text-align: right;\n    }\n\n    .dataframe thead th {\n        text-align: left;\n    }\n\n    .dataframe tbody tr th {\n        vertical-align: top;\n    }\n</style>\n<table border=\"1\" class=\"dataframe\">\n  <thead>\n    <tr style=\"text-align: right;\">\n      <th></th>\n      <th>age</th>\n      <th>name</th>\n      <th>superpower</th>\n      <th>old_age</th>\n      <th>age_2_yr_ago</th>\n      <th>weapon</th>\n    </tr>\n  </thead>\n  <tbody>\n    <tr>\n      <th>0</th>\n      <td>48</td>\n      <td>ironman</td>\n      <td>False</td>\n      <td>43</td>\n      <td>46</td>\n      <td>armor</td>\n    </tr>\n    <tr>\n      <th>1</th>\n      <td>100</td>\n      <td>captainamerica</td>\n      <td>True</td>\n      <td>95</td>\n      <td>98</td>\n      <td>shield</td>\n    </tr>\n    <tr>\n      <th>2</th>\n      <td>33</td>\n      <td>blackwidow</td>\n      <td>False</td>\n      <td>28</td>\n      <td>31</td>\n      <td>taser</td>\n    </tr>\n    <tr>\n      <th>3</th>\n      <td>430</td>\n      <td>thor</td>\n      <td>True</td>\n      <td>425</td>\n      <td>428</td>\n      <td>hammer</td>\n    </tr>\n    <tr>\n      <th>6</th>\n      <td>39</td>\n      <td>blackpanther</td>\n      <td>False</td>\n      <td>34</td>\n      <td>37</td>\n      <td>claws</td>\n    </tr>\n  </tbody>\n</table>\n</div>"
     },
     "metadata": {},
     "execution_count": 88
    }
   ],
   "source": [
    "df[ ~((df[\"age\"] < 50) & df[\"superpower\"]) ]"
   ]
  },
  {
   "cell_type": "code",
   "execution_count": 89,
   "metadata": {},
   "outputs": [
    {
     "output_type": "execute_result",
     "data": {
      "text/plain": "-1"
     },
     "metadata": {},
     "execution_count": 89
    }
   ],
   "source": [
    "True and -1"
   ]
  },
  {
   "cell_type": "markdown",
   "metadata": {
    "colab_type": "text",
    "id": "RJpWnt6psU5m"
   },
   "source": [
    "# 若要把其中一欄的資料讀取出來\n",
    "\n",
    "```python\n",
    "df['age']\n",
    "```\n",
    "或是\n",
    "```python\n",
    "df.age\n",
    "```\n"
   ]
  },
  {
   "cell_type": "code",
   "execution_count": 0,
   "metadata": {
    "colab": {},
    "colab_type": "code",
    "id": "02OjUvWNsU5m"
   },
   "outputs": [],
   "source": []
  },
  {
   "cell_type": "markdown",
   "metadata": {
    "colab_type": "text",
    "id": "zXD3wEXUsU5o"
   },
   "source": [
    "# 若我想用條件選擇出一些資料\n",
    "選出年齡低於 50 的復仇者\n",
    "\n",
    "```python\n",
    "# 產生出一個由布林值構成的 series\n",
    "age_filter = df['age'] < 50\n",
    "print(age_filter)\n",
    "# 再將該 series 套回到 DataFrame\n",
    "df[age_filter]\n",
    "```"
   ]
  },
  {
   "cell_type": "code",
   "execution_count": 90,
   "metadata": {
    "colab": {},
    "colab_type": "code",
    "id": "4SO8l4fKsU5p"
   },
   "outputs": [
    {
     "output_type": "stream",
     "name": "stdout",
     "text": "0     True\n1    False\n2     True\n3    False\n4     True\n5     True\n6     True\nName: age, dtype: bool\n"
    },
    {
     "output_type": "execute_result",
     "data": {
      "text/plain": "   age          name  superpower  old_age  age_2_yr_ago   weapon\n0   48       ironman       False       43            46    armor\n2   33    blackwidow       False       28            31    taser\n4   48          hulk        True       43            46  himself\n5   15     spiderman        True       10            13      web\n6   39  blackpanther       False       34            37    claws",
      "text/html": "<div>\n<style>\n    .dataframe thead tr:only-child th {\n        text-align: right;\n    }\n\n    .dataframe thead th {\n        text-align: left;\n    }\n\n    .dataframe tbody tr th {\n        vertical-align: top;\n    }\n</style>\n<table border=\"1\" class=\"dataframe\">\n  <thead>\n    <tr style=\"text-align: right;\">\n      <th></th>\n      <th>age</th>\n      <th>name</th>\n      <th>superpower</th>\n      <th>old_age</th>\n      <th>age_2_yr_ago</th>\n      <th>weapon</th>\n    </tr>\n  </thead>\n  <tbody>\n    <tr>\n      <th>0</th>\n      <td>48</td>\n      <td>ironman</td>\n      <td>False</td>\n      <td>43</td>\n      <td>46</td>\n      <td>armor</td>\n    </tr>\n    <tr>\n      <th>2</th>\n      <td>33</td>\n      <td>blackwidow</td>\n      <td>False</td>\n      <td>28</td>\n      <td>31</td>\n      <td>taser</td>\n    </tr>\n    <tr>\n      <th>4</th>\n      <td>48</td>\n      <td>hulk</td>\n      <td>True</td>\n      <td>43</td>\n      <td>46</td>\n      <td>himself</td>\n    </tr>\n    <tr>\n      <th>5</th>\n      <td>15</td>\n      <td>spiderman</td>\n      <td>True</td>\n      <td>10</td>\n      <td>13</td>\n      <td>web</td>\n    </tr>\n    <tr>\n      <th>6</th>\n      <td>39</td>\n      <td>blackpanther</td>\n      <td>False</td>\n      <td>34</td>\n      <td>37</td>\n      <td>claws</td>\n    </tr>\n  </tbody>\n</table>\n</div>"
     },
     "metadata": {},
     "execution_count": 90
    }
   ],
   "source": [
    "# 產生出一個由布林值構成的 series\n",
    "age_filter = df['age'] < 50\n",
    "print(age_filter)\n",
    "# 再將該 series 套回到 DataFrame\n",
    "df[age_filter]"
   ]
  },
  {
   "cell_type": "markdown",
   "metadata": {
    "colab_type": "text",
    "id": "Nz9zFf3usU5t"
   },
   "source": [
    "# 若我想用條件選擇出一些資料\n",
    "可以把 code 簡化成:\n",
    "\n",
    "```python\n",
    "df[df['age'] > 50]\n",
    "```"
   ]
  },
  {
   "cell_type": "code",
   "execution_count": 91,
   "metadata": {
    "colab": {},
    "colab_type": "code",
    "id": "JlikjkHgsU5u"
   },
   "outputs": [
    {
     "output_type": "execute_result",
     "data": {
      "text/plain": "   age            name  superpower  old_age  age_2_yr_ago  weapon\n1  100  captainamerica        True       95            98  shield\n3  430            thor        True      425           428  hammer",
      "text/html": "<div>\n<style>\n    .dataframe thead tr:only-child th {\n        text-align: right;\n    }\n\n    .dataframe thead th {\n        text-align: left;\n    }\n\n    .dataframe tbody tr th {\n        vertical-align: top;\n    }\n</style>\n<table border=\"1\" class=\"dataframe\">\n  <thead>\n    <tr style=\"text-align: right;\">\n      <th></th>\n      <th>age</th>\n      <th>name</th>\n      <th>superpower</th>\n      <th>old_age</th>\n      <th>age_2_yr_ago</th>\n      <th>weapon</th>\n    </tr>\n  </thead>\n  <tbody>\n    <tr>\n      <th>1</th>\n      <td>100</td>\n      <td>captainamerica</td>\n      <td>True</td>\n      <td>95</td>\n      <td>98</td>\n      <td>shield</td>\n    </tr>\n    <tr>\n      <th>3</th>\n      <td>430</td>\n      <td>thor</td>\n      <td>True</td>\n      <td>425</td>\n      <td>428</td>\n      <td>hammer</td>\n    </tr>\n  </tbody>\n</table>\n</div>"
     },
     "metadata": {},
     "execution_count": 91
    }
   ],
   "source": [
    "df[df['age'] > 50]"
   ]
  },
  {
   "cell_type": "markdown",
   "metadata": {
    "colab_type": "text",
    "id": "RyCZiLrLsU5x"
   },
   "source": [
    "# 選擇資料\n",
    "\n",
    "```python\n",
    "df2 = df[df['age'] < 50]\n",
    "df2[df2['superpower'] == True]\n",
    "```"
   ]
  },
  {
   "cell_type": "code",
   "execution_count": 92,
   "metadata": {
    "colab": {},
    "colab_type": "code",
    "id": "aykIHUznsU5z"
   },
   "outputs": [
    {
     "output_type": "execute_result",
     "data": {
      "text/plain": "   age       name  superpower  old_age  age_2_yr_ago   weapon\n4   48       hulk        True       43            46  himself\n5   15  spiderman        True       10            13      web",
      "text/html": "<div>\n<style>\n    .dataframe thead tr:only-child th {\n        text-align: right;\n    }\n\n    .dataframe thead th {\n        text-align: left;\n    }\n\n    .dataframe tbody tr th {\n        vertical-align: top;\n    }\n</style>\n<table border=\"1\" class=\"dataframe\">\n  <thead>\n    <tr style=\"text-align: right;\">\n      <th></th>\n      <th>age</th>\n      <th>name</th>\n      <th>superpower</th>\n      <th>old_age</th>\n      <th>age_2_yr_ago</th>\n      <th>weapon</th>\n    </tr>\n  </thead>\n  <tbody>\n    <tr>\n      <th>4</th>\n      <td>48</td>\n      <td>hulk</td>\n      <td>True</td>\n      <td>43</td>\n      <td>46</td>\n      <td>himself</td>\n    </tr>\n    <tr>\n      <th>5</th>\n      <td>15</td>\n      <td>spiderman</td>\n      <td>True</td>\n      <td>10</td>\n      <td>13</td>\n      <td>web</td>\n    </tr>\n  </tbody>\n</table>\n</div>"
     },
     "metadata": {},
     "execution_count": 92
    }
   ],
   "source": [
    "df2 = df[df['age'] < 50]\n",
    "df2[df2['superpower'] == True]"
   ]
  },
  {
   "cell_type": "markdown",
   "metadata": {
    "colab_type": "text",
    "id": "F1Ut15FBsU51"
   },
   "source": [
    "# 另一種寫法...\n",
    "\n",
    "| 邏輯運算 | Pandas 語法 | \n",
    "|:--:|:------:|\n",
    "| and | &     |\n",
    "| or | |      |\n",
    "| not | ~     |\n",
    "\n",
    "\n",
    "所以我們可以用 & 符號結合上面兩者的搜尋結果：\n",
    "```python \n",
    "(df['age'] <= 50) & (df['superpower'] == False)\n",
    "```\n",
    "\n",
    "最後就可以搜尋出符合兩個條件的結果了：\n",
    "```python\n",
    "df[(df['age'] <= 50) & (df['superpower'] == False)]\n",
    "```"
   ]
  },
  {
   "cell_type": "code",
   "execution_count": 96,
   "metadata": {
    "colab": {},
    "colab_type": "code",
    "id": "5Zgrcdf0sU52"
   },
   "outputs": [
    {
     "output_type": "execute_result",
     "data": {
      "text/plain": "   age          name  superpower  old_age  age_2_yr_ago weapon\n0   48       ironman       False       43            46  armor\n2   33    blackwidow       False       28            31  taser\n6   39  blackpanther       False       34            37  claws",
      "text/html": "<div>\n<style>\n    .dataframe thead tr:only-child th {\n        text-align: right;\n    }\n\n    .dataframe thead th {\n        text-align: left;\n    }\n\n    .dataframe tbody tr th {\n        vertical-align: top;\n    }\n</style>\n<table border=\"1\" class=\"dataframe\">\n  <thead>\n    <tr style=\"text-align: right;\">\n      <th></th>\n      <th>age</th>\n      <th>name</th>\n      <th>superpower</th>\n      <th>old_age</th>\n      <th>age_2_yr_ago</th>\n      <th>weapon</th>\n    </tr>\n  </thead>\n  <tbody>\n    <tr>\n      <th>0</th>\n      <td>48</td>\n      <td>ironman</td>\n      <td>False</td>\n      <td>43</td>\n      <td>46</td>\n      <td>armor</td>\n    </tr>\n    <tr>\n      <th>2</th>\n      <td>33</td>\n      <td>blackwidow</td>\n      <td>False</td>\n      <td>28</td>\n      <td>31</td>\n      <td>taser</td>\n    </tr>\n    <tr>\n      <th>6</th>\n      <td>39</td>\n      <td>blackpanther</td>\n      <td>False</td>\n      <td>34</td>\n      <td>37</td>\n      <td>claws</td>\n    </tr>\n  </tbody>\n</table>\n</div>"
     },
     "metadata": {},
     "execution_count": 96
    }
   ],
   "source": [
    "(df['age'] <= 50) & (df['superpower'] == False)\n",
    "df[(df['age'] <= 50) & (df['superpower'] == False)]"
   ]
  },
  {
   "cell_type": "markdown",
   "metadata": {
    "colab_type": "text",
    "id": "6A5a8qC5sU53"
   },
   "source": [
    "# Pandas 實戰專題：判斷股價漲跌\n",
    "\n",
    "利用 DataFrame 判斷漲跌，將結果匯出成 Excel 報表：\n",
    "\n",
    "1. 計算出 S&P 500 歷史資料的報酬率\n",
    "2. 畫出走勢圖\n",
    "3. 判斷是否為上漲\n",
    "4. 最後把當天是上漲的股價資料過濾出來\n",
    "5. 匯出成 Excel 檔案\n",
    "\n",
    "---\n",
    "# 範例 CSV 檔\n",
    "\n",
    "[範例 CSV 檔](https://www.dropbox.com/s/by2hfjhm07kkhbj/s%26p500.csv?dl=1)\n",
    "\n",
    "---\n",
    "# 將工作表的資料提取出來，存入 Dataframe\n",
    "\n",
    "```python\n",
    "import pandas as pd\n",
    "\n",
    "df = pd.read_csv(r\"你的 s&p500.csv 檔案路徑\")\n",
    "df\n",
    "```\n",
    "\n",
    "補充：[官網教學](https://pandas.pydata.org/pandas-docs/stable/reference/api/pandas.read_excel.html)\n"
   ]
  },
  {
   "cell_type": "code",
   "execution_count": 97,
   "metadata": {},
   "outputs": [],
   "source": [
    "import scipy"
   ]
  },
  {
   "cell_type": "code",
   "execution_count": null,
   "metadata": {},
   "outputs": [],
   "source": [
    "import pandas as pd\n",
    "\n",
    "pd.read_csv(\"s&p500.csv\")"
   ]
  },
  {
   "cell_type": "markdown",
   "metadata": {
    "colab_type": "text",
    "id": "PsHKfMnOsU58"
   },
   "source": [
    "# 改變 DataFrame 的 row index\n",
    "\n",
    "```python\n",
    "# 以 csv 第一欄的 Date 作爲索引\n",
    "df = pd.read_csv(r\"你的 s&p500.csv 檔案路徑\", index_col=\"Date\")\n",
    "df\n",
    "```"
   ]
  },
  {
   "cell_type": "code",
   "execution_count": 0,
   "metadata": {
    "colab": {},
    "colab_type": "code",
    "id": "El7JDKCNsU59"
   },
   "outputs": [],
   "source": []
  },
  {
   "cell_type": "markdown",
   "metadata": {
    "colab_type": "text",
    "id": "NnUypybOsU5_"
   },
   "source": [
    "# 繪製走勢圖功能\n",
    "\n",
    "讀取收盤價\n",
    "\n",
    "```python\n",
    "# 讀取 Adj Close 這一欄，回傳一個 Series\n",
    "df[\"Adj Close\"]\n",
    "```"
   ]
  },
  {
   "cell_type": "code",
   "execution_count": 0,
   "metadata": {
    "colab": {},
    "colab_type": "code",
    "id": "ureyBdTBsU6B",
    "scrolled": true
   },
   "outputs": [],
   "source": []
  },
  {
   "cell_type": "markdown",
   "metadata": {
    "colab_type": "text",
    "id": "d3xicr15sU6D"
   },
   "source": [
    "# 畫出走勢圖\n",
    "\n",
    "```python\n",
    "# 從 Dataframe 截取收盤價，畫出走勢圖 \n",
    "plt = df[\"Adj Close\"].plot()\n",
    "plt.set_xlabel(\"Time\")\n",
    "plt.set_ylabel(\"Price\")\n",
    "plt.set_title(\"S&P 500 Closing Prices\")\n",
    "```"
   ]
  },
  {
   "cell_type": "code",
   "execution_count": 0,
   "metadata": {
    "colab": {},
    "colab_type": "code",
    "id": "Lyrw2-BSsU6E"
   },
   "outputs": [],
   "source": []
  },
  {
   "cell_type": "markdown",
   "metadata": {
    "colab_type": "text",
    "id": "dIiETcJKsU6G"
   },
   "source": [
    "# 計算報酬率\n",
    "**pct_change()** 函數會幫你計算每一個 row 之間數值的差距，並以百分比的形式呈現出來：\n",
    "\n",
    "```python\n",
    "df[\"Adj Close\"].pct_change(1) * 100\n",
    "```\n",
    "\n",
    "補充：[官網教學](https://pandas.pydata.org/pandas-docs/version/0.23.4/generated/pandas.DataFrame.pct_change.html)"
   ]
  },
  {
   "cell_type": "code",
   "execution_count": 0,
   "metadata": {
    "colab": {},
    "colab_type": "code",
    "id": "usaQM0jEsU6H",
    "scrolled": true
   },
   "outputs": [],
   "source": []
  },
  {
   "cell_type": "markdown",
   "metadata": {
    "colab_type": "text",
    "id": "tEeyIdkVsU6K"
   },
   "source": [
    "# 將結果寫入 DataFrame\n",
    "\n",
    "```python\n",
    "df[\"daily return\"] = df[\"Adj Close\"].pct_change(1) * 100\n",
    "```\n"
   ]
  },
  {
   "cell_type": "code",
   "execution_count": 0,
   "metadata": {
    "colab": {},
    "colab_type": "code",
    "id": "II9DGB-8sU6K",
    "scrolled": true
   },
   "outputs": [],
   "source": []
  },
  {
   "cell_type": "markdown",
   "metadata": {
    "colab_type": "text",
    "id": "XJpVARnBsU6P"
   },
   "source": [
    "# 找出所有當日上漲的資料\n",
    "\n",
    "建立表頭為 \"是否上漲\" 的一欄（沒錯！表頭可以用中文指定）\n",
    "\n",
    "```python\n",
    "df[\"是否上漲\"] = df[\"daily return\"] > 0\n",
    "df\n",
    "```"
   ]
  },
  {
   "cell_type": "code",
   "execution_count": 0,
   "metadata": {
    "colab": {},
    "colab_type": "code",
    "id": "j3FhbFaNsU6Q",
    "scrolled": true
   },
   "outputs": [],
   "source": []
  },
  {
   "cell_type": "markdown",
   "metadata": {
    "colab_type": "text",
    "id": "xSKPFgIdsU6V"
   },
   "source": [
    "# 過濾出所有當日上漲的資料\n",
    "\n",
    "```python\n",
    "df[df[\"是否上漲\"] == True]\n",
    "```\n"
   ]
  },
  {
   "cell_type": "code",
   "execution_count": 0,
   "metadata": {
    "colab": {},
    "colab_type": "code",
    "id": "wP1IEkOusU6W",
    "scrolled": true
   },
   "outputs": [],
   "source": []
  },
  {
   "cell_type": "markdown",
   "metadata": {
    "colab_type": "text",
    "id": "mj63nrqHsU6b"
   },
   "source": [
    "# 寫入 Excel\n",
    "\n",
    "```python\n",
    "result_df = df[df[\"是否上漲\"] == True]\n",
    "\n",
    "result_df.to_excel(\"stock_report.xlsx\")\n",
    "```\n",
    "\n",
    "補充：[官網教學](https://pandas.pydata.org/pandas-docs/stable/reference/api/pandas.DataFrame.to_excel.html)\n",
    "\n",
    "```python\n",
    "result_df.to_excel(r\"指定儲存 stock_report.xlsx 的路徑\", sheet_name=\"工作表名稱\")\n",
    "```"
   ]
  },
  {
   "cell_type": "code",
   "execution_count": 0,
   "metadata": {
    "colab": {},
    "colab_type": "code",
    "id": "nviiHboksU6d"
   },
   "outputs": [],
   "source": []
  },
  {
   "cell_type": "markdown",
   "metadata": {
    "colab_type": "text",
    "id": "HH2qB0GhsU6f"
   },
   "source": [
    "# rolling() 滾動視窗\n",
    "\n",
    "代表從第三個 row 開始，把每一個 row 以及前兩筆資料選起來做運算：\n",
    "\n",
    "```python\n",
    "ser.rolling(3) \n",
    "# Rolling [window=3,center=False,axis=0]\n",
    "```\n",
    "\n",
    "從 Excel 的角度來理解：\n",
    "\n",
    "![](https://drive.google.com/uc?export=download&id=1Dy2ikKKZkGfLKUlImVT1npcbXNhWN7zo)\n",
    "\n",
    "但是，在選起來之後，必須針對選起來的資料做一些運算，因此我們需要一個給予它一個匯總/聚合函數：\n",
    "\n",
    "```python\n",
    "ser.rolling(3).sum()\n",
    "```\n",
    "\n",
    "代表把每三筆資料給加總起來的意思，從 Excel 的角度來理解：\n",
    "\n",
    "![](https://drive.google.com/uc?export=download&id=15waPZ_036b4mrkaq1RJuI2pgq037enAN)\n",
    "\n",
    "\n"
   ]
  },
  {
   "cell_type": "code",
   "execution_count": 0,
   "metadata": {
    "colab": {},
    "colab_type": "code",
    "id": "7gP4f-3ysU6g",
    "scrolled": true
   },
   "outputs": [],
   "source": []
  },
  {
   "cell_type": "markdown",
   "metadata": {
    "colab_type": "text",
    "id": "9FlBtaVtsU6q"
   },
   "source": [
    "# 計算 3 日移動平均\n",
    "\n",
    "以下可以將選起來的每三筆資料的加總除以 3\n",
    "\n",
    "```python\n",
    "df[\"Adj Close\"].rolling(3).sum() / 3\n",
    "```\n",
    "\n",
    "另外也可以使用 mean() 方法，直接將選擇到的每三筆資料的平均值算出來\n",
    "\n",
    "```python\n",
    "df[\"Adj Close\"].rolling(3).mean()\n",
    "```"
   ]
  },
  {
   "cell_type": "code",
   "execution_count": 0,
   "metadata": {
    "colab": {},
    "colab_type": "code",
    "id": "7OzsjtHjsU6s",
    "scrolled": true
   },
   "outputs": [],
   "source": []
  },
  {
   "cell_type": "markdown",
   "metadata": {
    "colab_type": "text",
    "id": "VA8fDkL7sU6x"
   },
   "source": [
    "# 將三日移動平均寫入 DataFrame\n",
    "\n",
    "```python\n",
    "df[\"sma3d\"] = df[\"Adj Close\"].rolling(3).sum() / 3\n",
    "df\n",
    "```"
   ]
  },
  {
   "cell_type": "code",
   "execution_count": 0,
   "metadata": {
    "colab": {},
    "colab_type": "code",
    "id": "U-DpP644sU6y",
    "scrolled": true
   },
   "outputs": [],
   "source": []
  },
  {
   "cell_type": "markdown",
   "metadata": {
    "colab_type": "text",
    "id": "8ia3d2x5sU61"
   },
   "source": [
    "## apply() 應用\n",
    "\n",
    "將一段運算過程**應用**到每一個 row 的資料\n",
    "\n",
    "以我們目前的 DataFrame 爲例，我們可以利用 **apply()** 計算出三日移動平均\n",
    "\n",
    "1. 先思考一下三日移動平均的算法，將運算過程寫成函數：\n",
    "\n",
    "```python\n",
    "def sma_3d(prices):\n",
    "    return sum(prices) / 3\n",
    "```\n",
    "\n",
    "2. 接下來將其轉換成 lambda 函數：\n",
    "\n",
    "```python\n",
    "lambda prices : sum(prices) / 3\n",
    "```\n",
    "\n",
    "3. 接下來我們就可以將其與 apply() 串接起來使用：\n",
    "\n",
    "```python\n",
    "df[\"Adj Close\"].rolling(3).apply(lambda prices : sum(prices) / 3)\n",
    "```\n",
    "\n",
    "以上代表從第三個 row 開始，把每一個 row 以及前兩筆資料選起來，放入 **apply()** 内的 **lambda** 函數做運算\n",
    "\n",
    "**apply()** 的好處是在於給予使用者更大的自由度，無論是多複雜的運算，只要能夠被封裝進函數，就能夠透過 **apply()** 做運算，語法上也相對簡潔  "
   ]
  },
  {
   "cell_type": "code",
   "execution_count": 0,
   "metadata": {
    "colab": {},
    "colab_type": "code",
    "id": "TnKzUmKpsU62",
    "scrolled": true
   },
   "outputs": [],
   "source": []
  },
  {
   "cell_type": "markdown",
   "metadata": {
    "colab_type": "text",
    "id": "5Mb1AywnsU65"
   },
   "source": [
    "## 作業：計算 5 日加權移動平均\n",
    "\n",
    "```python\n",
    "import numpy as np\n",
    "\n",
    "w5d = np.arange(1, 6)\n",
    "\n",
    "ser1.rolling(5).apply(lambda _________ : _________ / _________, raw=True)\n",
    "```"
   ]
  },
  {
   "cell_type": "code",
   "execution_count": 0,
   "metadata": {
    "colab": {},
    "colab_type": "code",
    "id": "-gD670E-sU66",
    "scrolled": true
   },
   "outputs": [],
   "source": []
  }
 ],
 "metadata": {
  "colab": {
   "collapsed_sections": [
    "53eXtnHcsU4q",
    "4PrAjVwFsU4s",
    "cSOsL5oEsU4x",
    "ufpAVGarsU41",
    "fmRHXrUfsU45",
    "nZMkyFKvsU49",
    "AodZWDulsU5C",
    "glaE0PrlsU5I",
    "Q_04MMKBsU5c",
    "KRH9FNmasU5g",
    "RJpWnt6psU5m",
    "zXD3wEXUsU5o",
    "Nz9zFf3usU5t",
    "RyCZiLrLsU5x",
    "F1Ut15FBsU51",
    "6A5a8qC5sU53",
    "PsHKfMnOsU58",
    "NnUypybOsU5_",
    "d3xicr15sU6D",
    "dIiETcJKsU6G",
    "tEeyIdkVsU6K",
    "XJpVARnBsU6P",
    "xSKPFgIdsU6V",
    "mj63nrqHsU6b",
    "HH2qB0GhsU6f",
    "9FlBtaVtsU6q"
   ],
   "name": "Python 程式設計 第八課：Pandas 入門.ipynb",
   "provenance": []
  },
  "kernelspec": {
   "display_name": "Python 3",
   "language": "python",
   "name": "python3"
  },
  "language_info": {
   "codemirror_mode": {
    "name": "ipython",
    "version": 3
   },
   "file_extension": ".py",
   "mimetype": "text/x-python",
   "name": "python",
   "nbconvert_exporter": "python",
   "pygments_lexer": "ipython3",
   "version": "3.7.3"
  }
 },
 "nbformat": 4,
 "nbformat_minor": 1
}